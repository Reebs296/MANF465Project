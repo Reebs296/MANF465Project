{
 "cells": [
  {
   "cell_type": "markdown",
   "metadata": {},
   "source": [
    "# Predictive Quality Control for Manufacturing"
   ]
  },
  {
   "cell_type": "markdown",
   "metadata": {},
   "source": [
    "## Importing Required Libraries"
   ]
  },
  {
   "cell_type": "code",
   "execution_count": null,
   "metadata": {},
   "outputs": [],
   "source": [
    "import pandas as pd\n",
    "import seaborn as sns\n",
    "import matplotlib.pyplot as plt\n",
    "import numpy as np\n",
    "import joblib\n",
    "from sklearn.model_selection import train_test_split\n",
    "from sklearn.preprocessing import StandardScaler\n",
    "from sklearn.linear_model import LinearRegression\n",
    "from sklearn.metrics import mean_squared_error, r2_score"
   ]
  },
  {
   "cell_type": "markdown",
   "metadata": {},
   "source": [
    "## Data Preprocessing"
   ]
  },
  {
   "cell_type": "code",
   "execution_count": null,
   "metadata": {},
   "outputs": [],
   "source": [
    "def preprocess_data(file_path):\n",
    "    data = pd.read_csv(file_path)\n",
    "    data.dropna(inplace=True)\n",
    "    data = pd.get_dummies(data, drop_first=True)\n",
    "    X = data.drop(columns=['defect_rate'])\n",
    "    y = data['defect_rate']\n",
    "    X_train, X_test, y_train, y_test = train_test_split(X, y, test_size=0.2, random_state=42)\n",
    "    scaler = StandardScaler()\n",
    "    X_train = scaler.fit_transform(X_train)\n",
    "    X_test = scaler.transform(X_test)\n",
    "    return X_train, X_test, y_train, y_test, data"
   ]
  },
  {
   "cell_type": "markdown",
   "metadata": {},
   "source": [
    "## Exploratory Data Analysis (EDA)"
   ]
  },
  {
   "cell_type": "code",
   "execution_count": null,
   "metadata": {},
   "outputs": [],
   "source": [
    "def perform_eda(data):\n",
    "    plt.figure(figsize=(12,8))\n",
    "    sns.heatmap(data.corr(), annot=True, cmap='coolwarm', fmt='.2f')\n",
    "    plt.title('Feature Correlation Heatmap')\n",
    "    plt.show()\n",
    "    \n",
    "    for col in data.columns:\n",
    "        if col != 'defect_rate':\n",
    "            sns.scatterplot(x=data[col], y=data['defect_rate'])\n",
    "            plt.title(f'{col} vs Defect Rate')\n",
    "            plt.xlabel(col)\n",
    "            plt.ylabel('Defect Rate')\n",
    "            plt.show()"
   ]
  },
  {
   "cell_type": "markdown",
   "metadata": {},
   "source": [
    "## Predictive Modeling"
   ]
  },
  {
   "cell_type": "code",
   "execution_count": null,
   "metadata": {},
   "outputs": [],
   "source": [
    "def train_model(X_train, y_train):\n",
    "    model = LinearRegression()\n",
    "    model.fit(X_train, y_train)\n",
    "    joblib.dump(model, 'defect_prediction_model.pkl')\n",
    "    return model\n",
    "\n",
    "def evaluate_model(model, X_test, y_test):\n",
    "    y_pred = model.predict(X_test)\n",
    "    mse = mean_squared_error(y_test, y_pred)\n",
    "    r2 = r2_score(y_test, y_pred)\n",
    "    return mse, r2, y_pred"
   ]
  },
  {
   "cell_type": "markdown",
   "metadata": {},
   "source": [
    "## Quality Control Integration"
   ]
  },
  {
   "cell_type": "code",
   "execution_count": null,
   "metadata": {},
   "outputs": [],
   "source": [
    "def plot_spc_chart(y_test, y_pred):\n",
    "    plt.figure(figsize=(10, 5))\n",
    "    plt.plot(y_test.values, label='Actual Defect Rate', marker='o')\n",
    "    plt.plot(y_pred, label='Predicted Defect Rate', linestyle='dashed')\n",
    "    plt.axhline(y_test.mean(), color='r', linestyle='dashed', label='Mean Defect Rate')\n",
    "    plt.xlabel('Sample Index')\n",
    "    plt.ylabel('Defect Rate')\n",
    "    plt.legend()\n",
    "    plt.title('Statistical Process Control Chart')\n",
    "    plt.show()\n",
    "\n",
    "def trigger_alarm(y_pred, threshold):\n",
    "    alerts = np.where(y_pred > threshold)[0]\n",
    "    if len(alerts) > 0:\n",
    "        print(f'Warning: Predicted defects exceed threshold at indices {alerts}')\n",
    "    else:\n",
    "        print('No defect alarms.')"
   ]
  },
  {
   "cell_type": "markdown",
   "metadata": {},
   "source": [
    "## Six Sigma Framework"
   ]
  },
  {
   "cell_type": "code",
   "execution_count": null,
   "metadata": {},
   "outputs": [],
   "source": [
    "def calculate_dpmk(y_actual, y_predicted, threshold=0.05):\n",
    "    defects = np.sum(np.abs(y_actual - y_predicted) > threshold)\n",
    "    opportunities = len(y_actual)\n",
    "    return (defects / opportunities) * 1_000_000\n",
    "\n",
    "def calculate_cpk(data, usl, lsl):\n",
    "    mean = data.mean()\n",
    "    std_dev = data.std()\n",
    "    cpu = (usl - mean) / (3 * std_dev)\n",
    "    cpl = (mean - lsl) / (3 * std_dev)\n",
    "    return min(cpu, cpl)"
   ]
  },
  {
   "cell_type": "markdown",
   "metadata": {},
   "source": [
    "## Running the Workflow"
   ]
  },
  {
   "cell_type": "code",
   "execution_count": null,
   "metadata": {},
   "outputs": [],
   "source": [
    "# Load and preprocess the dataset\n",
    "file_path = 'manufacturing_qc_data.csv'  # Update this with the actual dataset path\n",
    "X_train, X_test, y_train, y_test, data = preprocess_data(file_path)"
   ]
  },
  {
   "cell_type": "code",
   "execution_count": null,
   "metadata": {},
   "outputs": [],
   "source": [
    "# Perform EDA\n",
    "perform_eda(data)"
   ]
  },
  {
   "cell_type": "code",
   "execution_count": null,
   "metadata": {},
   "outputs": [],
   "source": [
    "# Train the predictive model\n",
    "model = train_model(X_train, y_train)"
   ]
  },
  {
   "cell_type": "code",
   "execution_count": null,
   "metadata": {},
   "outputs": [],
   "source": [
    "# Evaluate the model\n",
    "mse, r2, y_pred = evaluate_model(model, X_test, y_test)\n",
    "print(f'Model Performance: MSE = {mse:.4f}, R² Score = {r2:.4f}')"
   ]
  },
  {
   "cell_type": "code",
   "execution_count": null,
   "metadata": {},
   "outputs": [],
   "source": [
    "# Quality Control Integration\n",
    "plot_spc_chart(y_test, y_pred)\n",
    "trigger_alarm(y_pred, threshold=0.05)"
   ]
  },
  {
   "cell_type": "code",
   "execution_count": null,
   "metadata": {},
   "outputs": [],
   "source": [
    "# Six Sigma Analysis\n",
    "dpmk = calculate_dpmk(y_test, y_pred, threshold=0.05)\n",
    "cpk = calculate_cpk(y_test, usl=1.0, lsl=0.0)\n",
    "print(f'Defects Per Million Opportunities (DPMO): {dpmk:.2f}')\n",
    "print(f'Process Capability Index (Cpk): {cpk:.2f}')"
   ]
  }
 ],
 "metadata": {
  "language_info": {
   "name": "python"
  }
 },
 "nbformat": 4,
 "nbformat_minor": 2
}
